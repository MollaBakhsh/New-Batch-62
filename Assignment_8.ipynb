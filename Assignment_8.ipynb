{
  "nbformat": 4,
  "nbformat_minor": 0,
  "metadata": {
    "colab": {
      "provenance": [],
      "authorship_tag": "ABX9TyPoNIec2GrersKGg2ux9jwo",
      "include_colab_link": true
    },
    "kernelspec": {
      "name": "python3",
      "display_name": "Python 3"
    },
    "language_info": {
      "name": "python"
    }
  },
  "cells": [
    {
      "cell_type": "markdown",
      "metadata": {
        "id": "view-in-github",
        "colab_type": "text"
      },
      "source": [
        "<a href=\"https://colab.research.google.com/github/MollaBakhsh/New-Batch-62/blob/main/Assignment_8.ipynb\" target=\"_parent\"><img src=\"https://colab.research.google.com/assets/colab-badge.svg\" alt=\"Open In Colab\"/></a>"
      ]
    },
    {
      "cell_type": "code",
      "execution_count": 1,
      "metadata": {
        "colab": {
          "base_uri": "https://localhost:8080/"
        },
        "id": "ODfn4PP2KTKP",
        "outputId": "9609b4d1-38f6-45b1-be7e-58e8c085cc98"
      },
      "outputs": [
        {
          "output_type": "stream",
          "name": "stdout",
          "text": [
            "Select operation:\n",
            "1. Add\n",
            "2. Subtract\n",
            "3. Multiply\n",
            "4. Divide\n",
            "5. Power\n",
            "6. Modulus\n",
            "Enter choice (1/2/3/4/5/6): 1\n",
            "Enter first number: 45\n",
            "Enter second number: 545\n",
            "The result is: 590.0\n"
          ]
        }
      ],
      "source": [
        "def add(x, y):\n",
        "    return x + y\n",
        "\n",
        "def subtract(x, y):\n",
        "    return x - y\n",
        "\n",
        "def multiply(x, y):\n",
        "    return x * y\n",
        "\n",
        "def divide(x, y):\n",
        "    if y == 0:\n",
        "        return \"Error: Division by zero is not allowed.\"\n",
        "    else:\n",
        "        return x / y\n",
        "\n",
        "# Additional functions\n",
        "def power(x, y):\n",
        "    return x ** y\n",
        "\n",
        "def modulus(x, y):\n",
        "    return x % y\n",
        "\n",
        "# Function to execute the calculator\n",
        "def calculator():\n",
        "    print(\"Select operation:\")\n",
        "    print(\"1. Add\")\n",
        "    print(\"2. Subtract\")\n",
        "    print(\"3. Multiply\")\n",
        "    print(\"4. Divide\")\n",
        "    print(\"5. Power\")\n",
        "    print(\"6. Modulus\")\n",
        "\n",
        "    choice = input(\"Enter choice (1/2/3/4/5/6): \")\n",
        "\n",
        "    if choice not in ['1', '2', '3', '4', '5', '6']:\n",
        "        print(\"Invalid input. Please select a valid operation.\")\n",
        "        return\n",
        "\n",
        "    num1 = float(input(\"Enter first number: \"))\n",
        "    num2 = float(input(\"Enter second number: \"))\n",
        "\n",
        "    if choice == '1':\n",
        "        print(f\"The result is: {add(num1, num2)}\")\n",
        "    elif choice == '2':\n",
        "        print(f\"The result is: {subtract(num1, num2)}\")\n",
        "    elif choice == '3':\n",
        "        print(f\"The result is: {multiply(num1, num2)}\")\n",
        "    elif choice == '4':\n",
        "        print(f\"The result is: {divide(num1, num2)}\")\n",
        "    elif choice == '5':\n",
        "        print(f\"The result is: {power(num1, num2)}\")\n",
        "    elif choice == '6':\n",
        "        print(f\"The result is: {modulus(num1, num2)}\")\n",
        "\n",
        "calculator()"
      ]
    }
  ]
}