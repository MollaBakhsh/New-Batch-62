{
 "cells": [
  {
   "cell_type": "code",
   "execution_count": 24,
   "metadata": {},
   "outputs": [
    {
     "name": "stdout",
     "output_type": "stream",
     "text": [
      "HalloMolla! let's explore your favorite numbers:\n",
      "the number 4 is even.\n",
      "the number 6 is even.\n",
      "the number 9 is odd.\n",
      "The number 4 and its square: (4, 16)\n",
      "\n",
      "Amazing! The sum of your favorite numbers is: 19\n",
      "The number 6 and its square: (6, 36)\n",
      "\n",
      "Amazing! The sum of your favorite numbers is: 19\n",
      "The number 9 and its square: (9, 81)\n",
      "\n",
      "Amazing! The sum of your favorite numbers is: 19\n",
      "Wow, 19 is a prime number!\n"
     ]
    }
   ],
   "source": [
    "import math\n",
    "def is_prime(n):\n",
    "    if n < 2:\n",
    "        return False\n",
    "    for i in range (2, int(math.sqrt(n))+1):\n",
    "        if n % i== 0:\n",
    "\n",
    "            return False\n",
    "\n",
    "    return True \n",
    "name = input (\"Enter you are name\")\n",
    "\n",
    "num1 =int(input(\"Enter farst favraet number:\"))\n",
    "num2 =int(input(\"Enter saecond favraet number:\"))\n",
    "num3 =int(input(\"Enter thered favraet number:\"))\n",
    "\n",
    "numbers = [num1,num2,num3]\n",
    "\n",
    "even_odd_list=[]\n",
    "for num in numbers:\n",
    "    if num % 2 == 0:\n",
    "        even_odd_list.append((num, \"even\"))\n",
    "    else:\n",
    "        even_odd_list.append((num, \"odd\"))\n",
    "\n",
    "print (f\"Hallo{name}! let's explore your favorite numbers:\")\n",
    "\n",
    "for num, even_odd in even_odd_list:\n",
    "    print (f\"the number {num} is {even_odd}.\")\n",
    "\n",
    "for num in numbers:\n",
    "    print(f\"The number {num} and its square: ({num}, {num ** 2})\")\n",
    "\n",
    "    total_sum = sum(numbers)\n",
    "    print(f\"\\nAmazing! The sum of your favorite numbers is: {total_sum}\") \n",
    "\n",
    "if is_prime(total_sum):\n",
    "    print(f\"Wow, {total_sum} is a prime number!\")\n",
    "\n",
    "else:\n",
    "    print(f\"{total_sum} is not a prime number, but it's still great!\")\n",
    "\n",
    "\n"
   ]
  }
 ],
 "metadata": {
  "kernelspec": {
   "display_name": "Python 3",
   "language": "python",
   "name": "python3"
  },
  "language_info": {
   "codemirror_mode": {
    "name": "ipython",
    "version": 3
   },
   "file_extension": ".py",
   "mimetype": "text/x-python",
   "name": "python",
   "nbconvert_exporter": "python",
   "pygments_lexer": "ipython3",
   "version": "3.12.4"
  }
 },
 "nbformat": 4,
 "nbformat_minor": 2
}
